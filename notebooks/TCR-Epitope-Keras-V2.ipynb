{
 "cells": [
  {
   "cell_type": "code",
   "execution_count": 1,
   "metadata": {},
   "outputs": [
    {
     "name": "stderr",
     "output_type": "stream",
     "text": [
      "Using TensorFlow backend.\n"
     ]
    },
    {
     "name": "stdout",
     "output_type": "stream",
     "text": [
      "Python Version:  3.7.4\n",
      "/Users/matthewbuckley/Dropbox/TCR.Learning/notebooks\n"
     ]
    }
   ],
   "source": [
    "%matplotlib inline\n",
    "import numpy as np\n",
    "np.random.seed(123)\n",
    "\n",
    "import random as rn\n",
    "rn.seed(231)\n",
    "\n",
    "import tensorflow as tf\n",
    "tf.random.set_seed(321)\n",
    "\n",
    "import pandas as pd\n",
    "from tensorflow.keras import layers\n",
    "import seaborn as sns\n",
    "import epitopepredict as ep\n",
    "from keras import *\n",
    "from keras.utils import to_categorical\n",
    "from sklearn.preprocessing import OneHotEncoder\n",
    "from sklearn.model_selection import train_test_split\n",
    "import matplotlib.pyplot as plt\n",
    "\n",
    "from sklearn.ensemble import RandomForestClassifier\n",
    "from sklearn.metrics import classification_report, confusion_matrix\n",
    "\n",
    "import os\n",
    "import platform\n",
    "print(\"Python Version: \", platform.python_version())\n",
    "print(os.getcwd())"
   ]
  },
  {
   "cell_type": "code",
   "execution_count": 2,
   "metadata": {},
   "outputs": [
    {
     "name": "stdout",
     "output_type": "stream",
     "text": [
      "(3555, 11)\n"
     ]
    }
   ],
   "source": [
    "# Load data\n",
    "data = pd.read_csv('../R/data/PairedTCR_HLA-A*02.01_VDJdb.tsv', delimiter=\"\\t\" )\n",
    "print(data.shape)"
   ]
  },
  {
   "cell_type": "code",
   "execution_count": 3,
   "metadata": {},
   "outputs": [
    {
     "name": "stdout",
     "output_type": "stream",
     "text": [
      "GILGFVFTL     2044\n",
      "ELAGIGILTV     329\n",
      "GLCTLVAML      302\n",
      "LLWNGPMAV      247\n",
      "NLVPMVATV      198\n",
      "CINGVCWTV       79\n",
      "Name: antigen.epitope, dtype: int64\n"
     ]
    }
   ],
   "source": [
    "data = data.groupby(\"antigen.epitope\").filter(lambda x: len(x) > 50)\n",
    "print(data[\"antigen.epitope\"].value_counts())"
   ]
  },
  {
   "cell_type": "code",
   "execution_count": 4,
   "metadata": {},
   "outputs": [
    {
     "data": {
      "text/plain": [
       "0.6389496717724289"
      ]
     },
     "execution_count": 4,
     "metadata": {},
     "output_type": "execute_result"
    }
   ],
   "source": [
    "# Naive Accuracy\n",
    "max(data[\"antigen.epitope\"].value_counts()) / sum(data[\"antigen.epitope\"].value_counts())"
   ]
  },
  {
   "cell_type": "code",
   "execution_count": 5,
   "metadata": {},
   "outputs": [
    {
     "data": {
      "text/plain": [
       "21"
      ]
     },
     "execution_count": 5,
     "metadata": {},
     "output_type": "execute_result"
    }
   ],
   "source": [
    "# Largest cdr3.beta sequence?\n",
    "sizes = [len(i) for i in data[\"cdr3.beta\"]]\n",
    "max(sizes)"
   ]
  },
  {
   "cell_type": "code",
   "execution_count": 6,
   "metadata": {},
   "outputs": [
    {
     "data": {
      "text/plain": [
       "24"
      ]
     },
     "execution_count": 6,
     "metadata": {},
     "output_type": "execute_result"
    }
   ],
   "source": [
    "# Largest cdr3.beta sequence?\n",
    "sizes = [len(i) for i in data[\"cdr3.alpha\"]]\n",
    "max(sizes)"
   ]
  },
  {
   "cell_type": "code",
   "execution_count": 7,
   "metadata": {},
   "outputs": [
    {
     "data": {
      "text/html": [
       "<div>\n",
       "<style scoped>\n",
       "    .dataframe tbody tr th:only-of-type {\n",
       "        vertical-align: middle;\n",
       "    }\n",
       "\n",
       "    .dataframe tbody tr th {\n",
       "        vertical-align: top;\n",
       "    }\n",
       "\n",
       "    .dataframe thead th {\n",
       "        text-align: right;\n",
       "    }\n",
       "</style>\n",
       "<table border=\"1\" class=\"dataframe\">\n",
       "  <thead>\n",
       "    <tr style=\"text-align: right;\">\n",
       "      <th></th>\n",
       "      <th>cdr3.alpha</th>\n",
       "      <th>v.alpha</th>\n",
       "      <th>j.alpha</th>\n",
       "      <th>cdr3.beta</th>\n",
       "      <th>v.beta</th>\n",
       "      <th>d.beta</th>\n",
       "      <th>j.beta</th>\n",
       "      <th>mhc.a</th>\n",
       "      <th>mhc.b</th>\n",
       "      <th>reference.id</th>\n",
       "      <th>antigen.epitope</th>\n",
       "      <th>cdr3_b_pad</th>\n",
       "      <th>cdr3_a_pad</th>\n",
       "    </tr>\n",
       "  </thead>\n",
       "  <tbody>\n",
       "    <tr>\n",
       "      <th>0</th>\n",
       "      <td>CAGNNARPMF</td>\n",
       "      <td>TRAV27*01</td>\n",
       "      <td>TRAJ31*01</td>\n",
       "      <td>CASSQSPGGVAFF</td>\n",
       "      <td>TRBV14*01</td>\n",
       "      <td>NaN</td>\n",
       "      <td>TRBJ1-1*01</td>\n",
       "      <td>HLA-A*02:01</td>\n",
       "      <td>B2M</td>\n",
       "      <td>PMID:11046006</td>\n",
       "      <td>GLCTLVAML</td>\n",
       "      <td>CASSQSPGGVAFF000000000</td>\n",
       "      <td>CAGNNARPMF000000000000000</td>\n",
       "    </tr>\n",
       "    <tr>\n",
       "      <th>1</th>\n",
       "      <td>CAGNNARLMF</td>\n",
       "      <td>TRAV27*01</td>\n",
       "      <td>TRAJ31*01</td>\n",
       "      <td>CASSQSPGGVAFF</td>\n",
       "      <td>TRBV14*01</td>\n",
       "      <td>NaN</td>\n",
       "      <td>TRBJ1-1*01</td>\n",
       "      <td>HLA-A*02:01</td>\n",
       "      <td>B2M</td>\n",
       "      <td>PMID:11046006</td>\n",
       "      <td>GLCTLVAML</td>\n",
       "      <td>CASSQSPGGVAFF000000000</td>\n",
       "      <td>CAGNNARLMF000000000000000</td>\n",
       "    </tr>\n",
       "    <tr>\n",
       "      <th>2</th>\n",
       "      <td>CAGNNARLVF</td>\n",
       "      <td>TRAV27*01</td>\n",
       "      <td>TRAJ31*01</td>\n",
       "      <td>CASSQSPGGTQYF</td>\n",
       "      <td>TRBV14*01</td>\n",
       "      <td>NaN</td>\n",
       "      <td>TRBJ2-5*01</td>\n",
       "      <td>HLA-A*02:01</td>\n",
       "      <td>B2M</td>\n",
       "      <td>PMID:11046006</td>\n",
       "      <td>GLCTLVAML</td>\n",
       "      <td>CASSQSPGGTQYF000000000</td>\n",
       "      <td>CAGNNARLVF000000000000000</td>\n",
       "    </tr>\n",
       "    <tr>\n",
       "      <th>3</th>\n",
       "      <td>CAEGFASSDGQKLLF</td>\n",
       "      <td>TRAV5*01</td>\n",
       "      <td>NaN</td>\n",
       "      <td>CASSQSPGGTQYF</td>\n",
       "      <td>TRBV14*01</td>\n",
       "      <td>NaN</td>\n",
       "      <td>TRBJ2-5*01</td>\n",
       "      <td>HLA-A*02:01</td>\n",
       "      <td>B2M</td>\n",
       "      <td>PMID:11046006</td>\n",
       "      <td>GLCTLVAML</td>\n",
       "      <td>CASSQSPGGTQYF000000000</td>\n",
       "      <td>CAEGFASSDGQKLLF0000000000</td>\n",
       "    </tr>\n",
       "    <tr>\n",
       "      <th>4</th>\n",
       "      <td>CAGNNARLMF</td>\n",
       "      <td>TRAV27*01</td>\n",
       "      <td>TRAJ31*01</td>\n",
       "      <td>CSARDRHREWLHF</td>\n",
       "      <td>TRBV20-1*01</td>\n",
       "      <td>NaN</td>\n",
       "      <td>TRBJ1-2*01</td>\n",
       "      <td>HLA-A*02:01</td>\n",
       "      <td>B2M</td>\n",
       "      <td>PMID:11046006</td>\n",
       "      <td>GLCTLVAML</td>\n",
       "      <td>CSARDRHREWLHF000000000</td>\n",
       "      <td>CAGNNARLMF000000000000000</td>\n",
       "    </tr>\n",
       "  </tbody>\n",
       "</table>\n",
       "</div>"
      ],
      "text/plain": [
       "        cdr3.alpha    v.alpha    j.alpha      cdr3.beta       v.beta d.beta  \\\n",
       "0       CAGNNARPMF  TRAV27*01  TRAJ31*01  CASSQSPGGVAFF    TRBV14*01    NaN   \n",
       "1       CAGNNARLMF  TRAV27*01  TRAJ31*01  CASSQSPGGVAFF    TRBV14*01    NaN   \n",
       "2       CAGNNARLVF  TRAV27*01  TRAJ31*01  CASSQSPGGTQYF    TRBV14*01    NaN   \n",
       "3  CAEGFASSDGQKLLF   TRAV5*01        NaN  CASSQSPGGTQYF    TRBV14*01    NaN   \n",
       "4       CAGNNARLMF  TRAV27*01  TRAJ31*01  CSARDRHREWLHF  TRBV20-1*01    NaN   \n",
       "\n",
       "       j.beta        mhc.a mhc.b   reference.id antigen.epitope  \\\n",
       "0  TRBJ1-1*01  HLA-A*02:01   B2M  PMID:11046006       GLCTLVAML   \n",
       "1  TRBJ1-1*01  HLA-A*02:01   B2M  PMID:11046006       GLCTLVAML   \n",
       "2  TRBJ2-5*01  HLA-A*02:01   B2M  PMID:11046006       GLCTLVAML   \n",
       "3  TRBJ2-5*01  HLA-A*02:01   B2M  PMID:11046006       GLCTLVAML   \n",
       "4  TRBJ1-2*01  HLA-A*02:01   B2M  PMID:11046006       GLCTLVAML   \n",
       "\n",
       "               cdr3_b_pad                 cdr3_a_pad  \n",
       "0  CASSQSPGGVAFF000000000  CAGNNARPMF000000000000000  \n",
       "1  CASSQSPGGVAFF000000000  CAGNNARLMF000000000000000  \n",
       "2  CASSQSPGGTQYF000000000  CAGNNARLVF000000000000000  \n",
       "3  CASSQSPGGTQYF000000000  CAEGFASSDGQKLLF0000000000  \n",
       "4  CSARDRHREWLHF000000000  CAGNNARLMF000000000000000  "
      ]
     },
     "execution_count": 7,
     "metadata": {},
     "output_type": "execute_result"
    }
   ],
   "source": [
    "# Padding\n",
    "data[\"cdr3_b_pad\"] = data[\"cdr3.beta\"].str.ljust(22, \"0\")\n",
    "data[\"cdr3_a_pad\"] = data[\"cdr3.alpha\"].str.ljust(25, \"0\")\n",
    "data.head()"
   ]
  },
  {
   "cell_type": "code",
   "execution_count": 10,
   "metadata": {},
   "outputs": [
    {
     "data": {
      "text/html": [
       "<div>\n",
       "<style scoped>\n",
       "    .dataframe tbody tr th:only-of-type {\n",
       "        vertical-align: middle;\n",
       "    }\n",
       "\n",
       "    .dataframe tbody tr th {\n",
       "        vertical-align: top;\n",
       "    }\n",
       "\n",
       "    .dataframe thead th {\n",
       "        text-align: right;\n",
       "    }\n",
       "</style>\n",
       "<table border=\"1\" class=\"dataframe\">\n",
       "  <thead>\n",
       "    <tr style=\"text-align: right;\">\n",
       "      <th></th>\n",
       "      <th>cdr3.alpha</th>\n",
       "      <th>v.alpha</th>\n",
       "      <th>j.alpha</th>\n",
       "      <th>cdr3.beta</th>\n",
       "      <th>v.beta</th>\n",
       "      <th>d.beta</th>\n",
       "      <th>j.beta</th>\n",
       "      <th>mhc.a</th>\n",
       "      <th>mhc.b</th>\n",
       "      <th>reference.id</th>\n",
       "      <th>antigen.epitope</th>\n",
       "      <th>cdr3_b_pad</th>\n",
       "      <th>cdr3_a_pad</th>\n",
       "      <th>pair_cdr3</th>\n",
       "    </tr>\n",
       "  </thead>\n",
       "  <tbody>\n",
       "    <tr>\n",
       "      <th>3553</th>\n",
       "      <td>CIRDNNNDMRF</td>\n",
       "      <td>TRAV26-2*01</td>\n",
       "      <td>TRAJ43*01</td>\n",
       "      <td>CASSLAPGTTNEKLFF</td>\n",
       "      <td>TRBV7-6*01</td>\n",
       "      <td>TRBD1</td>\n",
       "      <td>TRBJ1-4*01</td>\n",
       "      <td>HLA-A*02:01</td>\n",
       "      <td>B2M</td>\n",
       "      <td>https://github.com/antigenomics/vdjdb-db/issue...</td>\n",
       "      <td>NLVPMVATV</td>\n",
       "      <td>CASSLAPGTTNEKLFF000000</td>\n",
       "      <td>CIRDNNNDMRF00000000000000</td>\n",
       "      <td>CIRDNNNDMRF00000000000000CASSLAPGTTNEKLFF000000</td>\n",
       "    </tr>\n",
       "    <tr>\n",
       "      <th>3554</th>\n",
       "      <td>CIIDNNNDMRF</td>\n",
       "      <td>TRAV26-2*01</td>\n",
       "      <td>TRAJ43*01</td>\n",
       "      <td>CASSLAPGATNEKLFF</td>\n",
       "      <td>TRBV7-6*01</td>\n",
       "      <td>TRBD1</td>\n",
       "      <td>TRBJ1-4*01</td>\n",
       "      <td>HLA-A*02:01</td>\n",
       "      <td>B2M</td>\n",
       "      <td>https://github.com/antigenomics/vdjdb-db/issue...</td>\n",
       "      <td>NLVPMVATV</td>\n",
       "      <td>CASSLAPGATNEKLFF000000</td>\n",
       "      <td>CIIDNNNDMRF00000000000000</td>\n",
       "      <td>CIIDNNNDMRF00000000000000CASSLAPGATNEKLFF000000</td>\n",
       "    </tr>\n",
       "  </tbody>\n",
       "</table>\n",
       "</div>"
      ],
      "text/plain": [
       "       cdr3.alpha      v.alpha    j.alpha         cdr3.beta      v.beta  \\\n",
       "3553  CIRDNNNDMRF  TRAV26-2*01  TRAJ43*01  CASSLAPGTTNEKLFF  TRBV7-6*01   \n",
       "3554  CIIDNNNDMRF  TRAV26-2*01  TRAJ43*01  CASSLAPGATNEKLFF  TRBV7-6*01   \n",
       "\n",
       "     d.beta      j.beta        mhc.a mhc.b  \\\n",
       "3553  TRBD1  TRBJ1-4*01  HLA-A*02:01   B2M   \n",
       "3554  TRBD1  TRBJ1-4*01  HLA-A*02:01   B2M   \n",
       "\n",
       "                                           reference.id antigen.epitope  \\\n",
       "3553  https://github.com/antigenomics/vdjdb-db/issue...       NLVPMVATV   \n",
       "3554  https://github.com/antigenomics/vdjdb-db/issue...       NLVPMVATV   \n",
       "\n",
       "                  cdr3_b_pad                 cdr3_a_pad  \\\n",
       "3553  CASSLAPGTTNEKLFF000000  CIRDNNNDMRF00000000000000   \n",
       "3554  CASSLAPGATNEKLFF000000  CIIDNNNDMRF00000000000000   \n",
       "\n",
       "                                            pair_cdr3  \n",
       "3553  CIRDNNNDMRF00000000000000CASSLAPGTTNEKLFF000000  \n",
       "3554  CIIDNNNDMRF00000000000000CASSLAPGATNEKLFF000000  "
      ]
     },
     "execution_count": 10,
     "metadata": {},
     "output_type": "execute_result"
    }
   ],
   "source": [
    "# Create joint cdr3 feature\n",
    "data[\"pair_cdr3\"] = data[\"cdr3_a_pad\"] + data[\"cdr3_b_pad\"]\n",
    "data.tail(2)"
   ]
  },
  {
   "cell_type": "code",
   "execution_count": 11,
   "metadata": {},
   "outputs": [
    {
     "data": {
      "text/plain": [
       "(3199, 14)"
      ]
     },
     "execution_count": 11,
     "metadata": {},
     "output_type": "execute_result"
    }
   ],
   "source": [
    "data.shape"
   ]
  },
  {
   "cell_type": "code",
   "execution_count": 15,
   "metadata": {},
   "outputs": [],
   "source": [
    "data.drop_duplicates('pair_cdr3', inplace=True)"
   ]
  },
  {
   "cell_type": "code",
   "execution_count": 58,
   "metadata": {},
   "outputs": [
    {
     "data": {
      "text/plain": [
       "0.6158894645941279"
      ]
     },
     "execution_count": 58,
     "metadata": {},
     "output_type": "execute_result"
    }
   ],
   "source": [
    "# Naive Accuracy\n",
    "max(data[\"antigen.epitope\"].value_counts()) / sum(data[\"antigen.epitope\"].value_counts())"
   ]
  },
  {
   "cell_type": "code",
   "execution_count": 16,
   "metadata": {},
   "outputs": [
    {
     "data": {
      "text/plain": [
       "(2895, 14)"
      ]
     },
     "execution_count": 16,
     "metadata": {},
     "output_type": "execute_result"
    }
   ],
   "source": [
    "data.shape"
   ]
  },
  {
   "cell_type": "code",
   "execution_count": null,
   "metadata": {},
   "outputs": [],
   "source": [
    "train, dev = train_test_split(data, test_size=0.2)"
   ]
  },
  {
   "cell_type": "code",
   "execution_count": 61,
   "metadata": {},
   "outputs": [
    {
     "data": {
      "text/plain": [
       "0.6200345423143351"
      ]
     },
     "execution_count": 61,
     "metadata": {},
     "output_type": "execute_result"
    }
   ],
   "source": [
    "# Naive Accuracy Dev\n",
    "max(dev[\"antigen.epitope\"].value_counts()) / sum(dev[\"antigen.epitope\"].value_counts())"
   ]
  },
  {
   "cell_type": "code",
   "execution_count": 62,
   "metadata": {},
   "outputs": [
    {
     "data": {
      "text/plain": [
       "0.614853195164076"
      ]
     },
     "execution_count": 62,
     "metadata": {},
     "output_type": "execute_result"
    }
   ],
   "source": [
    "# Naive Accuracy Train\n",
    "max(train[\"antigen.epitope\"].value_counts()) / sum(train[\"antigen.epitope\"].value_counts())"
   ]
  },
  {
   "cell_type": "markdown",
   "metadata": {},
   "source": [
    "## Encode labels; embed features"
   ]
  },
  {
   "cell_type": "code",
   "execution_count": 29,
   "metadata": {},
   "outputs": [],
   "source": [
    "blosum = pd.DataFrame(ep.blosum62)\n",
    "blosum.rename(columns = {\"*\" : \"0\"}, index =  {\"*\" : \"0\"}, inplace=True)\n",
    "def blosum_encode(seq, show=True):\n",
    "    #encode a peptide into blosum features\n",
    "    s = list(seq)\n",
    "    x = pd.DataFrame([blosum[i] for i in seq]).reset_index(drop=True)\n",
    "    if show:\n",
    "        show_matrix(x)\n",
    "    e = x.values.flatten()    \n",
    "    return e"
   ]
  },
  {
   "cell_type": "code",
   "execution_count": 30,
   "metadata": {},
   "outputs": [
    {
     "data": {
      "text/html": [
       "<div>\n",
       "<style scoped>\n",
       "    .dataframe tbody tr th:only-of-type {\n",
       "        vertical-align: middle;\n",
       "    }\n",
       "\n",
       "    .dataframe tbody tr th {\n",
       "        vertical-align: top;\n",
       "    }\n",
       "\n",
       "    .dataframe thead th {\n",
       "        text-align: right;\n",
       "    }\n",
       "</style>\n",
       "<table border=\"1\" class=\"dataframe\">\n",
       "  <thead>\n",
       "    <tr style=\"text-align: right;\">\n",
       "      <th></th>\n",
       "      <th>cdr3.alpha</th>\n",
       "      <th>v.alpha</th>\n",
       "      <th>j.alpha</th>\n",
       "      <th>cdr3.beta</th>\n",
       "      <th>v.beta</th>\n",
       "      <th>d.beta</th>\n",
       "      <th>j.beta</th>\n",
       "      <th>mhc.a</th>\n",
       "      <th>mhc.b</th>\n",
       "      <th>reference.id</th>\n",
       "      <th>antigen.epitope</th>\n",
       "      <th>cdr3_b_pad</th>\n",
       "      <th>cdr3_a_pad</th>\n",
       "      <th>pair_cdr3</th>\n",
       "    </tr>\n",
       "  </thead>\n",
       "  <tbody>\n",
       "    <tr>\n",
       "      <th>2033</th>\n",
       "      <td>CILRDVGTGTASKLTF</td>\n",
       "      <td>TRAV26-2*01</td>\n",
       "      <td>TRAJ44*01</td>\n",
       "      <td>CASSLAGAGGYTF</td>\n",
       "      <td>TRBV27*01</td>\n",
       "      <td>TRBD1</td>\n",
       "      <td>TRBJ1-2*01</td>\n",
       "      <td>HLA-A*02:01</td>\n",
       "      <td>B2M</td>\n",
       "      <td>https://www.10xgenomics.com/resources/applicat...</td>\n",
       "      <td>GILGFVFTL</td>\n",
       "      <td>CASSLAGAGGYTF000000000</td>\n",
       "      <td>CILRDVGTGTASKLTF000000000</td>\n",
       "      <td>CILRDVGTGTASKLTF000000000CASSLAGAGGYTF000000000</td>\n",
       "    </tr>\n",
       "    <tr>\n",
       "      <th>2054</th>\n",
       "      <td>CAIGPGNMLTF</td>\n",
       "      <td>TRAV12-3*01</td>\n",
       "      <td>TRAJ39*01</td>\n",
       "      <td>CATSGGMGQPQHF</td>\n",
       "      <td>TRBV15*01</td>\n",
       "      <td>TRBD1</td>\n",
       "      <td>TRBJ1-5*01</td>\n",
       "      <td>HLA-A*02:01</td>\n",
       "      <td>B2M</td>\n",
       "      <td>https://www.10xgenomics.com/resources/applicat...</td>\n",
       "      <td>ELAGIGILTV</td>\n",
       "      <td>CATSGGMGQPQHF000000000</td>\n",
       "      <td>CAIGPGNMLTF00000000000000</td>\n",
       "      <td>CAIGPGNMLTF00000000000000CATSGGMGQPQHF000000000</td>\n",
       "    </tr>\n",
       "    <tr>\n",
       "      <th>2715</th>\n",
       "      <td>CALRVMNRDDKIIF</td>\n",
       "      <td>TRAV16*01</td>\n",
       "      <td>TRAJ30*01</td>\n",
       "      <td>CASSTKVGGTGELFF</td>\n",
       "      <td>TRBV19*01</td>\n",
       "      <td>NaN</td>\n",
       "      <td>TRBJ2-2*01</td>\n",
       "      <td>HLA-A*02:01</td>\n",
       "      <td>B2M</td>\n",
       "      <td>PMID:28636592</td>\n",
       "      <td>GILGFVFTL</td>\n",
       "      <td>CASSTKVGGTGELFF0000000</td>\n",
       "      <td>CALRVMNRDDKIIF00000000000</td>\n",
       "      <td>CALRVMNRDDKIIF00000000000CASSTKVGGTGELFF0000000</td>\n",
       "    </tr>\n",
       "    <tr>\n",
       "      <th>24</th>\n",
       "      <td>CATDAGNDMRF</td>\n",
       "      <td>TRAV17*01</td>\n",
       "      <td>TRAJ43*01</td>\n",
       "      <td>CASSYWVGDTDTQYF</td>\n",
       "      <td>TRBV6-5*01</td>\n",
       "      <td>NaN</td>\n",
       "      <td>TRBJ2-3*01</td>\n",
       "      <td>HLA-A*02:01</td>\n",
       "      <td>B2M</td>\n",
       "      <td>PMID:11046006</td>\n",
       "      <td>GLCTLVAML</td>\n",
       "      <td>CASSYWVGDTDTQYF0000000</td>\n",
       "      <td>CATDAGNDMRF00000000000000</td>\n",
       "      <td>CATDAGNDMRF00000000000000CASSYWVGDTDTQYF0000000</td>\n",
       "    </tr>\n",
       "    <tr>\n",
       "      <th>1275</th>\n",
       "      <td>CAGHWDLGNNARLMF</td>\n",
       "      <td>TRAV35*01</td>\n",
       "      <td>TRAJ31*01</td>\n",
       "      <td>CASSVRHGTEAFF</td>\n",
       "      <td>TRBV19*01</td>\n",
       "      <td>NaN</td>\n",
       "      <td>TRBJ1-1*01</td>\n",
       "      <td>HLA-A*02:01</td>\n",
       "      <td>B2M</td>\n",
       "      <td>https://www.10xgenomics.com/resources/applicat...</td>\n",
       "      <td>GILGFVFTL</td>\n",
       "      <td>CASSVRHGTEAFF000000000</td>\n",
       "      <td>CAGHWDLGNNARLMF0000000000</td>\n",
       "      <td>CAGHWDLGNNARLMF0000000000CASSVRHGTEAFF000000000</td>\n",
       "    </tr>\n",
       "  </tbody>\n",
       "</table>\n",
       "</div>"
      ],
      "text/plain": [
       "            cdr3.alpha      v.alpha    j.alpha        cdr3.beta      v.beta  \\\n",
       "2033  CILRDVGTGTASKLTF  TRAV26-2*01  TRAJ44*01    CASSLAGAGGYTF   TRBV27*01   \n",
       "2054       CAIGPGNMLTF  TRAV12-3*01  TRAJ39*01    CATSGGMGQPQHF   TRBV15*01   \n",
       "2715    CALRVMNRDDKIIF    TRAV16*01  TRAJ30*01  CASSTKVGGTGELFF   TRBV19*01   \n",
       "24         CATDAGNDMRF    TRAV17*01  TRAJ43*01  CASSYWVGDTDTQYF  TRBV6-5*01   \n",
       "1275   CAGHWDLGNNARLMF    TRAV35*01  TRAJ31*01    CASSVRHGTEAFF   TRBV19*01   \n",
       "\n",
       "     d.beta      j.beta        mhc.a mhc.b  \\\n",
       "2033  TRBD1  TRBJ1-2*01  HLA-A*02:01   B2M   \n",
       "2054  TRBD1  TRBJ1-5*01  HLA-A*02:01   B2M   \n",
       "2715    NaN  TRBJ2-2*01  HLA-A*02:01   B2M   \n",
       "24      NaN  TRBJ2-3*01  HLA-A*02:01   B2M   \n",
       "1275    NaN  TRBJ1-1*01  HLA-A*02:01   B2M   \n",
       "\n",
       "                                           reference.id antigen.epitope  \\\n",
       "2033  https://www.10xgenomics.com/resources/applicat...       GILGFVFTL   \n",
       "2054  https://www.10xgenomics.com/resources/applicat...      ELAGIGILTV   \n",
       "2715                                      PMID:28636592       GILGFVFTL   \n",
       "24                                        PMID:11046006       GLCTLVAML   \n",
       "1275  https://www.10xgenomics.com/resources/applicat...       GILGFVFTL   \n",
       "\n",
       "                  cdr3_b_pad                 cdr3_a_pad  \\\n",
       "2033  CASSLAGAGGYTF000000000  CILRDVGTGTASKLTF000000000   \n",
       "2054  CATSGGMGQPQHF000000000  CAIGPGNMLTF00000000000000   \n",
       "2715  CASSTKVGGTGELFF0000000  CALRVMNRDDKIIF00000000000   \n",
       "24    CASSYWVGDTDTQYF0000000  CATDAGNDMRF00000000000000   \n",
       "1275  CASSVRHGTEAFF000000000  CAGHWDLGNNARLMF0000000000   \n",
       "\n",
       "                                            pair_cdr3  \n",
       "2033  CILRDVGTGTASKLTF000000000CASSLAGAGGYTF000000000  \n",
       "2054  CAIGPGNMLTF00000000000000CATSGGMGQPQHF000000000  \n",
       "2715  CALRVMNRDDKIIF00000000000CASSTKVGGTGELFF0000000  \n",
       "24    CATDAGNDMRF00000000000000CASSYWVGDTDTQYF0000000  \n",
       "1275  CAGHWDLGNNARLMF0000000000CASSVRHGTEAFF000000000  "
      ]
     },
     "execution_count": 30,
     "metadata": {},
     "output_type": "execute_result"
    }
   ],
   "source": [
    "train.head()"
   ]
  },
  {
   "cell_type": "code",
   "execution_count": 33,
   "metadata": {},
   "outputs": [],
   "source": [
    "train_encode = np.array([blosum_encode(seq=x, show=False) for x in train[\"pair_cdr3\"]])\n",
    "dev_encode = np.array([blosum_encode(seq =x, show=False) for x in dev[\"pair_cdr3\"]])"
   ]
  },
  {
   "cell_type": "code",
   "execution_count": 34,
   "metadata": {},
   "outputs": [],
   "source": [
    "label_encoder = OneHotEncoder(sparse=False).fit(train[\"antigen.epitope\"].values.reshape(-1,1))\n",
    "\n",
    "train_encode_labels = label_encoder.transform(train[\"antigen.epitope\"].values.reshape(-1,1))\n",
    "dev_encode_labels = label_encoder.transform(dev[\"antigen.epitope\"].values.reshape(-1,1))"
   ]
  },
  {
   "cell_type": "code",
   "execution_count": 35,
   "metadata": {},
   "outputs": [
    {
     "data": {
      "text/plain": [
       "(2316, 1128)"
      ]
     },
     "execution_count": 35,
     "metadata": {},
     "output_type": "execute_result"
    }
   ],
   "source": [
    "train_encode.shape"
   ]
  },
  {
   "cell_type": "code",
   "execution_count": 37,
   "metadata": {},
   "outputs": [
    {
     "name": "stdout",
     "output_type": "stream",
     "text": [
      "Model: \"sequential_2\"\n",
      "_________________________________________________________________\n",
      "Layer (type)                 Output Shape              Param #   \n",
      "=================================================================\n",
      "dense_3 (Dense)              (None, 32)                36128     \n",
      "_________________________________________________________________\n",
      "dense_4 (Dense)              (None, 6)                 198       \n",
      "=================================================================\n",
      "Total params: 36,326\n",
      "Trainable params: 36,326\n",
      "Non-trainable params: 0\n",
      "_________________________________________________________________\n"
     ]
    }
   ],
   "source": [
    "# For a single-input model with 10 classes (categorical classification):\n",
    "from keras.layers import *\n",
    "\n",
    "model = Sequential()\n",
    "model.add(Dense(32, activation='relu', input_dim=1128))\n",
    "model.add(Dense(6, activation='softmax'))\n",
    "model.compile(optimizer='adam',\n",
    "              loss='categorical_crossentropy',\n",
    "              metrics=['accuracy'])\n",
    "model.summary()\n"
   ]
  },
  {
   "cell_type": "code",
   "execution_count": 56,
   "metadata": {},
   "outputs": [
    {
     "name": "stdout",
     "output_type": "stream",
     "text": [
      "Train on 2316 samples, validate on 579 samples\n",
      "Epoch 1/100\n",
      "2316/2316 [==============================] - 0s 24us/step - loss: 0.0238 - accuracy: 0.9940 - val_loss: 3.0447 - val_accuracy: 0.7496\n",
      "Epoch 2/100\n",
      "2316/2316 [==============================] - 0s 27us/step - loss: 0.0048 - accuracy: 0.9996 - val_loss: 3.1459 - val_accuracy: 0.7599\n",
      "Epoch 3/100\n",
      "2316/2316 [==============================] - 0s 34us/step - loss: 0.0020 - accuracy: 1.0000 - val_loss: 3.1307 - val_accuracy: 0.7599\n",
      "Epoch 4/100\n",
      "2316/2316 [==============================] - 0s 25us/step - loss: 0.0014 - accuracy: 1.0000 - val_loss: 3.0519 - val_accuracy: 0.7686\n",
      "Epoch 5/100\n",
      "2316/2316 [==============================] - 0s 28us/step - loss: 0.0013 - accuracy: 1.0000 - val_loss: 3.0705 - val_accuracy: 0.7617\n",
      "Epoch 6/100\n",
      "2316/2316 [==============================] - 0s 26us/step - loss: 0.0011 - accuracy: 1.0000 - val_loss: 3.0934 - val_accuracy: 0.7634\n",
      "Epoch 7/100\n",
      "2316/2316 [==============================] - 0s 24us/step - loss: 0.0011 - accuracy: 1.0000 - val_loss: 3.1081 - val_accuracy: 0.7617\n",
      "Epoch 8/100\n",
      "2316/2316 [==============================] - 0s 24us/step - loss: 0.0010 - accuracy: 1.0000 - val_loss: 3.1137 - val_accuracy: 0.7617\n",
      "Epoch 9/100\n",
      "2316/2316 [==============================] - 0s 25us/step - loss: 0.0010 - accuracy: 1.0000 - val_loss: 3.1182 - val_accuracy: 0.7634\n",
      "Epoch 10/100\n",
      "2316/2316 [==============================] - 0s 25us/step - loss: 9.8078e-04 - accuracy: 1.0000 - val_loss: 3.1252 - val_accuracy: 0.7634\n",
      "Epoch 11/100\n",
      "2316/2316 [==============================] - 0s 24us/step - loss: 0.0012 - accuracy: 1.0000 - val_loss: 3.1311 - val_accuracy: 0.7634\n",
      "Epoch 12/100\n",
      "2316/2316 [==============================] - 0s 25us/step - loss: 9.6503e-04 - accuracy: 1.0000 - val_loss: 3.1250 - val_accuracy: 0.7617\n",
      "Epoch 13/100\n",
      "2316/2316 [==============================] - 0s 26us/step - loss: 9.1434e-04 - accuracy: 1.0000 - val_loss: 3.1223 - val_accuracy: 0.7634\n",
      "Epoch 14/100\n",
      "2316/2316 [==============================] - 0s 26us/step - loss: 8.9009e-04 - accuracy: 1.0000 - val_loss: 3.1367 - val_accuracy: 0.7634\n",
      "Epoch 15/100\n",
      "2316/2316 [==============================] - 0s 24us/step - loss: 8.8532e-04 - accuracy: 1.0000 - val_loss: 3.1393 - val_accuracy: 0.7634\n",
      "Epoch 16/100\n",
      "2316/2316 [==============================] - 0s 25us/step - loss: 8.6905e-04 - accuracy: 1.0000 - val_loss: 3.1417 - val_accuracy: 0.7599\n",
      "Epoch 17/100\n",
      "2316/2316 [==============================] - 0s 25us/step - loss: 8.5642e-04 - accuracy: 1.0000 - val_loss: 3.1381 - val_accuracy: 0.7634\n",
      "Epoch 18/100\n",
      "2316/2316 [==============================] - 0s 27us/step - loss: 8.5171e-04 - accuracy: 1.0000 - val_loss: 3.1361 - val_accuracy: 0.7651\n",
      "Epoch 19/100\n",
      "2316/2316 [==============================] - 0s 26us/step - loss: 8.2672e-04 - accuracy: 1.0000 - val_loss: 3.1385 - val_accuracy: 0.7634\n",
      "Epoch 20/100\n",
      "2316/2316 [==============================] - 0s 38us/step - loss: 8.0629e-04 - accuracy: 1.0000 - val_loss: 3.1422 - val_accuracy: 0.7634\n",
      "Epoch 21/100\n",
      "2316/2316 [==============================] - 0s 30us/step - loss: 8.0284e-04 - accuracy: 1.0000 - val_loss: 3.1411 - val_accuracy: 0.7634\n",
      "Epoch 22/100\n",
      "2316/2316 [==============================] - 0s 30us/step - loss: 7.8750e-04 - accuracy: 1.0000 - val_loss: 3.1467 - val_accuracy: 0.7634\n",
      "Epoch 23/100\n",
      "2316/2316 [==============================] - 0s 25us/step - loss: 7.7101e-04 - accuracy: 1.0000 - val_loss: 3.1427 - val_accuracy: 0.7634\n",
      "Epoch 24/100\n",
      "2316/2316 [==============================] - 0s 26us/step - loss: 7.6299e-04 - accuracy: 1.0000 - val_loss: 3.1438 - val_accuracy: 0.7634\n",
      "Epoch 25/100\n",
      "2316/2316 [==============================] - 0s 25us/step - loss: 7.5342e-04 - accuracy: 1.0000 - val_loss: 3.1438 - val_accuracy: 0.7634\n",
      "Epoch 26/100\n",
      "2316/2316 [==============================] - 0s 24us/step - loss: 7.5493e-04 - accuracy: 1.0000 - val_loss: 3.1510 - val_accuracy: 0.7634\n",
      "Epoch 27/100\n",
      "2316/2316 [==============================] - 0s 25us/step - loss: 7.3606e-04 - accuracy: 1.0000 - val_loss: 3.1445 - val_accuracy: 0.7634\n",
      "Epoch 28/100\n",
      "2316/2316 [==============================] - 0s 28us/step - loss: 7.2897e-04 - accuracy: 1.0000 - val_loss: 3.1437 - val_accuracy: 0.7634\n",
      "Epoch 29/100\n",
      "2316/2316 [==============================] - 0s 26us/step - loss: 7.3345e-04 - accuracy: 1.0000 - val_loss: 3.1461 - val_accuracy: 0.7634\n",
      "Epoch 30/100\n",
      "2316/2316 [==============================] - 0s 25us/step - loss: 7.1552e-04 - accuracy: 1.0000 - val_loss: 3.1506 - val_accuracy: 0.7634\n",
      "Epoch 31/100\n",
      "2316/2316 [==============================] - 0s 24us/step - loss: 7.1467e-04 - accuracy: 1.0000 - val_loss: 3.1515 - val_accuracy: 0.7634\n",
      "Epoch 32/100\n",
      "2316/2316 [==============================] - 0s 25us/step - loss: 7.2023e-04 - accuracy: 1.0000 - val_loss: 3.1515 - val_accuracy: 0.7617\n",
      "Epoch 33/100\n",
      "2316/2316 [==============================] - 0s 24us/step - loss: 6.9047e-04 - accuracy: 1.0000 - val_loss: 3.1538 - val_accuracy: 0.7651\n",
      "Epoch 34/100\n",
      "2316/2316 [==============================] - 0s 26us/step - loss: 6.8715e-04 - accuracy: 1.0000 - val_loss: 3.1545 - val_accuracy: 0.7617\n",
      "Epoch 35/100\n",
      "2316/2316 [==============================] - 0s 25us/step - loss: 6.7780e-04 - accuracy: 1.0000 - val_loss: 3.1536 - val_accuracy: 0.7634\n",
      "Epoch 36/100\n",
      "2316/2316 [==============================] - 0s 24us/step - loss: 6.6168e-04 - accuracy: 1.0000 - val_loss: 3.1555 - val_accuracy: 0.7651\n",
      "Epoch 37/100\n",
      "2316/2316 [==============================] - 0s 24us/step - loss: 6.5605e-04 - accuracy: 1.0000 - val_loss: 3.1580 - val_accuracy: 0.7651\n",
      "Epoch 38/100\n",
      "2316/2316 [==============================] - 0s 25us/step - loss: 6.5052e-04 - accuracy: 1.0000 - val_loss: 3.1611 - val_accuracy: 0.7651\n",
      "Epoch 39/100\n",
      "2316/2316 [==============================] - 0s 23us/step - loss: 6.5494e-04 - accuracy: 1.0000 - val_loss: 3.1598 - val_accuracy: 0.7634\n",
      "Epoch 40/100\n",
      "2316/2316 [==============================] - 0s 25us/step - loss: 6.4803e-04 - accuracy: 1.0000 - val_loss: 3.1481 - val_accuracy: 0.7651\n",
      "Epoch 41/100\n",
      "2316/2316 [==============================] - 0s 23us/step - loss: 6.3956e-04 - accuracy: 1.0000 - val_loss: 3.1531 - val_accuracy: 0.7617\n",
      "Epoch 42/100\n",
      "2316/2316 [==============================] - 0s 24us/step - loss: 6.2033e-04 - accuracy: 1.0000 - val_loss: 3.1609 - val_accuracy: 0.7651\n",
      "Epoch 43/100\n",
      "2316/2316 [==============================] - 0s 25us/step - loss: 6.2276e-04 - accuracy: 1.0000 - val_loss: 3.1645 - val_accuracy: 0.7651\n",
      "Epoch 44/100\n",
      "2316/2316 [==============================] - 0s 24us/step - loss: 6.1607e-04 - accuracy: 1.0000 - val_loss: 3.1612 - val_accuracy: 0.7617\n",
      "Epoch 45/100\n",
      "2316/2316 [==============================] - 0s 25us/step - loss: 6.1034e-04 - accuracy: 1.0000 - val_loss: 3.1654 - val_accuracy: 0.7634\n",
      "Epoch 46/100\n",
      "2316/2316 [==============================] - 0s 23us/step - loss: 6.0470e-04 - accuracy: 1.0000 - val_loss: 3.1672 - val_accuracy: 0.7634\n",
      "Epoch 47/100\n",
      "2316/2316 [==============================] - 0s 27us/step - loss: 6.0019e-04 - accuracy: 1.0000 - val_loss: 3.1679 - val_accuracy: 0.7668\n",
      "Epoch 48/100\n",
      "2316/2316 [==============================] - 0s 24us/step - loss: 5.9379e-04 - accuracy: 1.0000 - val_loss: 3.1666 - val_accuracy: 0.7651\n",
      "Epoch 49/100\n",
      "2316/2316 [==============================] - 0s 24us/step - loss: 5.9516e-04 - accuracy: 1.0000 - val_loss: 3.1694 - val_accuracy: 0.7651\n",
      "Epoch 50/100\n",
      "2316/2316 [==============================] - 0s 24us/step - loss: 5.8709e-04 - accuracy: 1.0000 - val_loss: 3.1663 - val_accuracy: 0.7686\n",
      "Epoch 51/100\n",
      "2316/2316 [==============================] - 0s 25us/step - loss: 5.8637e-04 - accuracy: 1.0000 - val_loss: 3.1687 - val_accuracy: 0.7686\n",
      "Epoch 52/100\n",
      "2316/2316 [==============================] - 0s 23us/step - loss: 5.7151e-04 - accuracy: 1.0000 - val_loss: 3.1728 - val_accuracy: 0.7686\n",
      "Epoch 53/100\n",
      "2316/2316 [==============================] - 0s 23us/step - loss: 5.7315e-04 - accuracy: 1.0000 - val_loss: 3.1755 - val_accuracy: 0.7668\n",
      "Epoch 54/100\n",
      "2316/2316 [==============================] - 0s 31us/step - loss: 5.5997e-04 - accuracy: 1.0000 - val_loss: 3.1741 - val_accuracy: 0.7668\n",
      "Epoch 55/100\n"
     ]
    },
    {
     "name": "stdout",
     "output_type": "stream",
     "text": [
      "2316/2316 [==============================] - 0s 24us/step - loss: 5.6184e-04 - accuracy: 1.0000 - val_loss: 3.1684 - val_accuracy: 0.7634\n",
      "Epoch 56/100\n",
      "2316/2316 [==============================] - 0s 24us/step - loss: 5.5875e-04 - accuracy: 1.0000 - val_loss: 3.1745 - val_accuracy: 0.7686\n",
      "Epoch 57/100\n",
      "2316/2316 [==============================] - 0s 23us/step - loss: 5.4943e-04 - accuracy: 1.0000 - val_loss: 3.1787 - val_accuracy: 0.7686\n",
      "Epoch 58/100\n",
      "2316/2316 [==============================] - 0s 24us/step - loss: 5.4319e-04 - accuracy: 1.0000 - val_loss: 3.1768 - val_accuracy: 0.7703\n",
      "Epoch 59/100\n",
      "2316/2316 [==============================] - 0s 25us/step - loss: 5.4026e-04 - accuracy: 1.0000 - val_loss: 3.1773 - val_accuracy: 0.7686\n",
      "Epoch 60/100\n",
      "2316/2316 [==============================] - 0s 23us/step - loss: 5.3925e-04 - accuracy: 1.0000 - val_loss: 3.1779 - val_accuracy: 0.7651\n",
      "Epoch 61/100\n",
      "2316/2316 [==============================] - 0s 23us/step - loss: 5.3413e-04 - accuracy: 1.0000 - val_loss: 3.1832 - val_accuracy: 0.7703\n",
      "Epoch 62/100\n",
      "2316/2316 [==============================] - 0s 23us/step - loss: 5.2941e-04 - accuracy: 1.0000 - val_loss: 3.1807 - val_accuracy: 0.7634\n",
      "Epoch 63/100\n",
      "2316/2316 [==============================] - 0s 24us/step - loss: 5.4853e-04 - accuracy: 1.0000 - val_loss: 3.1730 - val_accuracy: 0.7651\n",
      "Epoch 64/100\n",
      "2316/2316 [==============================] - 0s 24us/step - loss: 5.2364e-04 - accuracy: 1.0000 - val_loss: 3.1790 - val_accuracy: 0.7668\n",
      "Epoch 65/100\n",
      "2316/2316 [==============================] - 0s 24us/step - loss: 5.1939e-04 - accuracy: 1.0000 - val_loss: 3.1819 - val_accuracy: 0.7668\n",
      "Epoch 66/100\n",
      "2316/2316 [==============================] - 0s 25us/step - loss: 5.1185e-04 - accuracy: 1.0000 - val_loss: 3.1839 - val_accuracy: 0.7668\n",
      "Epoch 67/100\n",
      "2316/2316 [==============================] - 0s 25us/step - loss: 5.1055e-04 - accuracy: 1.0000 - val_loss: 3.1867 - val_accuracy: 0.7668\n",
      "Epoch 68/100\n",
      "2316/2316 [==============================] - 0s 24us/step - loss: 5.1839e-04 - accuracy: 1.0000 - val_loss: 3.1850 - val_accuracy: 0.7668\n",
      "Epoch 69/100\n",
      "2316/2316 [==============================] - 0s 25us/step - loss: 5.0305e-04 - accuracy: 1.0000 - val_loss: 3.1889 - val_accuracy: 0.7668\n",
      "Epoch 70/100\n",
      "2316/2316 [==============================] - 0s 25us/step - loss: 4.9531e-04 - accuracy: 1.0000 - val_loss: 3.1893 - val_accuracy: 0.7634\n",
      "Epoch 71/100\n",
      "2316/2316 [==============================] - 0s 25us/step - loss: 4.9263e-04 - accuracy: 1.0000 - val_loss: 3.1935 - val_accuracy: 0.7668\n",
      "Epoch 72/100\n",
      "2316/2316 [==============================] - 0s 25us/step - loss: 4.9759e-04 - accuracy: 1.0000 - val_loss: 3.1912 - val_accuracy: 0.7668\n",
      "Epoch 73/100\n",
      "2316/2316 [==============================] - 0s 27us/step - loss: 5.0609e-04 - accuracy: 1.0000 - val_loss: 3.1887 - val_accuracy: 0.7668\n",
      "Epoch 74/100\n",
      "2316/2316 [==============================] - 0s 26us/step - loss: 4.9606e-04 - accuracy: 1.0000 - val_loss: 3.1888 - val_accuracy: 0.7668\n",
      "Epoch 75/100\n",
      "2316/2316 [==============================] - 0s 27us/step - loss: 4.8163e-04 - accuracy: 1.0000 - val_loss: 3.1973 - val_accuracy: 0.7668\n",
      "Epoch 76/100\n",
      "2316/2316 [==============================] - 0s 26us/step - loss: 4.7404e-04 - accuracy: 1.0000 - val_loss: 3.1979 - val_accuracy: 0.7668\n",
      "Epoch 77/100\n",
      "2316/2316 [==============================] - 0s 26us/step - loss: 4.7027e-04 - accuracy: 1.0000 - val_loss: 3.1969 - val_accuracy: 0.7651\n",
      "Epoch 78/100\n",
      "2316/2316 [==============================] - 0s 24us/step - loss: 4.8027e-04 - accuracy: 1.0000 - val_loss: 3.1982 - val_accuracy: 0.7651\n",
      "Epoch 79/100\n",
      "2316/2316 [==============================] - 0s 26us/step - loss: 4.6872e-04 - accuracy: 1.0000 - val_loss: 3.1986 - val_accuracy: 0.7651\n",
      "Epoch 80/100\n",
      "2316/2316 [==============================] - 0s 25us/step - loss: 4.6548e-04 - accuracy: 1.0000 - val_loss: 3.1994 - val_accuracy: 0.7686\n",
      "Epoch 81/100\n",
      "2316/2316 [==============================] - 0s 24us/step - loss: 4.5673e-04 - accuracy: 1.0000 - val_loss: 3.2004 - val_accuracy: 0.7686\n",
      "Epoch 82/100\n",
      "2316/2316 [==============================] - 0s 25us/step - loss: 4.5621e-04 - accuracy: 1.0000 - val_loss: 3.1995 - val_accuracy: 0.7668\n",
      "Epoch 83/100\n",
      "2316/2316 [==============================] - 0s 26us/step - loss: 4.6035e-04 - accuracy: 1.0000 - val_loss: 3.2013 - val_accuracy: 0.7668\n",
      "Epoch 84/100\n",
      "2316/2316 [==============================] - 0s 24us/step - loss: 4.6298e-04 - accuracy: 1.0000 - val_loss: 3.2044 - val_accuracy: 0.7668\n",
      "Epoch 85/100\n",
      "2316/2316 [==============================] - 0s 23us/step - loss: 4.4817e-04 - accuracy: 1.0000 - val_loss: 3.2038 - val_accuracy: 0.7686\n",
      "Epoch 86/100\n",
      "2316/2316 [==============================] - 0s 24us/step - loss: 4.4560e-04 - accuracy: 1.0000 - val_loss: 3.2054 - val_accuracy: 0.7668\n",
      "Epoch 87/100\n",
      "2316/2316 [==============================] - 0s 26us/step - loss: 4.3978e-04 - accuracy: 1.0000 - val_loss: 3.2085 - val_accuracy: 0.7668\n",
      "Epoch 88/100\n",
      "2316/2316 [==============================] - 0s 25us/step - loss: 4.3908e-04 - accuracy: 1.0000 - val_loss: 3.2100 - val_accuracy: 0.7634\n",
      "Epoch 89/100\n",
      "2316/2316 [==============================] - 0s 26us/step - loss: 4.3888e-04 - accuracy: 1.0000 - val_loss: 3.2082 - val_accuracy: 0.7668\n",
      "Epoch 90/100\n",
      "2316/2316 [==============================] - 0s 26us/step - loss: 4.3754e-04 - accuracy: 1.0000 - val_loss: 3.2068 - val_accuracy: 0.7668\n",
      "Epoch 91/100\n",
      "2316/2316 [==============================] - 0s 25us/step - loss: 4.3550e-04 - accuracy: 1.0000 - val_loss: 3.2130 - val_accuracy: 0.7651\n",
      "Epoch 92/100\n",
      "2316/2316 [==============================] - 0s 26us/step - loss: 4.3374e-04 - accuracy: 1.0000 - val_loss: 3.2111 - val_accuracy: 0.7668\n",
      "Epoch 93/100\n",
      "2316/2316 [==============================] - 0s 24us/step - loss: 4.2691e-04 - accuracy: 1.0000 - val_loss: 3.2108 - val_accuracy: 0.7668\n",
      "Epoch 94/100\n",
      "2316/2316 [==============================] - 0s 24us/step - loss: 4.2178e-04 - accuracy: 1.0000 - val_loss: 3.2118 - val_accuracy: 0.7651\n",
      "Epoch 95/100\n",
      "2316/2316 [==============================] - 0s 25us/step - loss: 4.2798e-04 - accuracy: 1.0000 - val_loss: 3.2118 - val_accuracy: 0.7668\n",
      "Epoch 96/100\n",
      "2316/2316 [==============================] - 0s 28us/step - loss: 4.1680e-04 - accuracy: 1.0000 - val_loss: 3.2165 - val_accuracy: 0.7686\n",
      "Epoch 97/100\n",
      "2316/2316 [==============================] - 0s 27us/step - loss: 4.1008e-04 - accuracy: 1.0000 - val_loss: 3.2192 - val_accuracy: 0.7651\n",
      "Epoch 98/100\n",
      "2316/2316 [==============================] - 0s 27us/step - loss: 4.0659e-04 - accuracy: 1.0000 - val_loss: 3.2173 - val_accuracy: 0.7651\n",
      "Epoch 99/100\n",
      "2316/2316 [==============================] - 0s 28us/step - loss: 4.0822e-04 - accuracy: 1.0000 - val_loss: 3.2163 - val_accuracy: 0.7668\n",
      "Epoch 100/100\n",
      "2316/2316 [==============================] - 0s 30us/step - loss: 4.0823e-04 - accuracy: 1.0000 - val_loss: 3.2205 - val_accuracy: 0.7634\n"
     ]
    }
   ],
   "source": [
    "# Train the model\n",
    "np.random.seed(0)\n",
    "history = model.fit(train_encode, train_encode_labels, validation_data=(dev_encode, dev_encode_labels), epochs=100, batch_size=128, shuffle=True)"
   ]
  },
  {
   "cell_type": "code",
   "execution_count": 66,
   "metadata": {},
   "outputs": [
    {
     "data": {
      "image/png": "[encoded data removed]",
      "text/plain": [
       "<Figure size 432x288 with 1 Axes>"
      ]
     },
     "metadata": {
      "needs_background": "light"
     },
     "output_type": "display_data"
    },
    {
     "data": {
      "image/png": "[encoded data removed]",
      "text/plain": [
       "<Figure size 432x288 with 1 Axes>"
      ]
     },
     "metadata": {
      "needs_background": "light"
     },
     "output_type": "display_data"
    }
   ],
   "source": [
    "# summarize history for accuracy\n",
    "plt.plot(history.history['accuracy'])\n",
    "plt.plot(history.history['val_accuracy'])\n",
    "plt.title('model accuracy')\n",
    "plt.ylabel('accuracy')\n",
    "plt.xlabel('epoch')\n",
    "plt.legend(['train', 'test'], loc='upper left')\n",
    "plt.show()\n",
    "# summarize history for loss\n",
    "plt.plot(history.history['loss'])\n",
    "plt.plot(history.history['val_loss'])\n",
    "plt.title('model loss')\n",
    "plt.ylabel('loss')\n",
    "plt.xlabel('epoch')\n",
    "plt.legend(['train', 'test'], loc='upper left')\n",
    "plt.show()"
   ]
  },
  {
   "cell_type": "code",
   "execution_count": 53,
   "metadata": {},
   "outputs": [],
   "source": [
    "train_labels = np.argmax(train_encode_labels, axis=1)\n",
    "train_predictions = model.predict_classes(train_encode)"
   ]
  },
  {
   "cell_type": "code",
   "execution_count": 54,
   "metadata": {},
   "outputs": [
    {
     "name": "stdout",
     "output_type": "stream",
     "text": [
      "Confusion matrix, without normalization\n",
      "[[  65    0    0    0    0    0]\n",
      " [   0  250    0    0    0    0]\n",
      " [   0    0 1422    0    0    0]\n",
      " [   0    0    0  224    2    0]\n",
      " [   0    0    3    0  204    0]\n",
      " [   0    0    0    0    0  146]]\n",
      "Normalized confusion matrix\n",
      "[[1.      0.      0.      0.      0.      0.     ]\n",
      " [0.      1.      0.      0.      0.      0.     ]\n",
      " [0.      0.      1.      0.      0.      0.     ]\n",
      " [0.      0.      0.      0.99115 0.00885 0.     ]\n",
      " [0.      0.      0.01449 0.      0.98551 0.     ]\n",
      " [0.      0.      0.      0.      0.      1.     ]]\n"
     ]
    },
    {
     "data": {
      "text/plain": [
       "<matplotlib.axes._subplots.AxesSubplot at 0x7fdfd1f2a2d0>"
      ]
     },
     "execution_count": 54,
     "metadata": {},
     "output_type": "execute_result"
    },
    {
     "data": {
      "image/png": "[encoded data removed]",
      "text/plain": [
       "<Figure size 432x288 with 2 Axes>"
      ]
     },
     "metadata": {
      "needs_background": "light"
     },
     "output_type": "display_data"
    },
    {
     "data": {
      "image/png": "[encoded data removed]",
      "text/plain": [
       "<Figure size 432x288 with 2 Axes>"
      ]
     },
     "metadata": {
      "needs_background": "light"
     },
     "output_type": "display_data"
    }
   ],
   "source": [
    "plot_confusion_matrix(train_labels, train_predictions,\n",
    "                      title='Confusion matrix, without normalization')\n",
    "\n",
    "plot_confusion_matrix(train_labels, train_predictions, normalize=True,\n",
    "                      title='Normalized confusion matrix')"
   ]
  },
  {
   "cell_type": "code",
   "execution_count": 55,
   "metadata": {},
   "outputs": [
    {
     "name": "stdout",
     "output_type": "stream",
     "text": [
      "Confusion matrix, without normalization\n",
      "[[  6   1   4   0   1   2]\n",
      " [  1  45  17   7   6   3]\n",
      " [  2  17 323   8   9   2]\n",
      " [  0   3  12  35   1   2]\n",
      " [  2   6   6   0  24   2]\n",
      " [  2   4  14   1   1  10]]\n",
      "Normalized confusion matrix\n",
      "[[0.42857 0.07143 0.28571 0.      0.07143 0.14286]\n",
      " [0.01266 0.56962 0.21519 0.08861 0.07595 0.03797]\n",
      " [0.00554 0.04709 0.89474 0.02216 0.02493 0.00554]\n",
      " [0.      0.0566  0.22642 0.66038 0.01887 0.03774]\n",
      " [0.05    0.15    0.15    0.      0.6     0.05   ]\n",
      " [0.0625  0.125   0.4375  0.03125 0.03125 0.3125 ]]\n"
     ]
    },
    {
     "data": {
      "text/plain": [
       "<matplotlib.axes._subplots.AxesSubplot at 0x7fdfb89e3190>"
      ]
     },
     "execution_count": 55,
     "metadata": {},
     "output_type": "execute_result"
    },
    {
     "data": {
      "image/png": "[encoded data removed]",
      "text/plain": [
       "<Figure size 432x288 with 2 Axes>"
      ]
     },
     "metadata": {
      "needs_background": "light"
     },
     "output_type": "display_data"
    },
    {
     "data": {
      "image/png": "[encoded data removed]",
      "text/plain": [
       "<Figure size 432x288 with 2 Axes>"
      ]
     },
     "metadata": {
      "needs_background": "light"
     },
     "output_type": "display_data"
    }
   ],
   "source": [
    "dev_labels = np.argmax(dev_encode_labels, axis=1)\n",
    "dev_predictions = model.predict_classes(dev_encode)\n",
    "plot_confusion_matrix(dev_labels, dev_predictions, normalize=False,\n",
    "                      title='Confusion matrix, without normalization')\n",
    "plot_confusion_matrix(dev_labels, dev_predictions, normalize=True,\n",
    "                      title='Confusion matrix, with normalization')"
   ]
  },
  {
   "cell_type": "code",
   "execution_count": null,
   "metadata": {},
   "outputs": [],
   "source": []
  },
  {
   "cell_type": "code",
   "execution_count": null,
   "metadata": {},
   "outputs": [],
   "source": []
  },
  {
   "cell_type": "code",
   "execution_count": null,
   "metadata": {},
   "outputs": [],
   "source": []
  },
  {
   "cell_type": "code",
   "execution_count": null,
   "metadata": {},
   "outputs": [],
   "source": []
  },
  {
   "cell_type": "code",
   "execution_count": 67,
   "metadata": {},
   "outputs": [
    {
     "data": {
      "text/plain": [
       "RandomForestClassifier(bootstrap=True, class_weight=None, criterion='gini',\n",
       "                       max_depth=None, max_features='auto', max_leaf_nodes=None,\n",
       "                       min_impurity_decrease=0.0, min_impurity_split=None,\n",
       "                       min_samples_leaf=1, min_samples_split=2,\n",
       "                       min_weight_fraction_leaf=0.0, n_estimators=300,\n",
       "                       n_jobs=None, oob_score=False, random_state=None,\n",
       "                       verbose=0, warm_start=False)"
      ]
     },
     "execution_count": 67,
     "metadata": {},
     "output_type": "execute_result"
    }
   ],
   "source": [
    "clf = RandomForestClassifier(n_estimators=300)\n",
    "clf.fit(train_encode, train['antigen.epitope'].values)"
   ]
  },
  {
   "cell_type": "code",
   "execution_count": 69,
   "metadata": {},
   "outputs": [
    {
     "data": {
      "text/plain": [
       "0.6044905008635578"
      ]
     },
     "execution_count": 69,
     "metadata": {},
     "output_type": "execute_result"
    }
   ],
   "source": [
    "clf.score(dev_encode, dev['antigen.epitope'].values)"
   ]
  },
  {
   "cell_type": "code",
   "execution_count": null,
   "metadata": {},
   "outputs": [],
   "source": []
  },
  {
   "cell_type": "code",
   "execution_count": null,
   "metadata": {},
   "outputs": [],
   "source": []
  },
  {
   "cell_type": "code",
   "execution_count": null,
   "metadata": {},
   "outputs": [],
   "source": []
  },
  {
   "cell_type": "code",
   "execution_count": null,
   "metadata": {},
   "outputs": [],
   "source": []
  },
  {
   "cell_type": "code",
   "execution_count": null,
   "metadata": {},
   "outputs": [],
   "source": []
  },
  {
   "cell_type": "code",
   "execution_count": null,
   "metadata": {},
   "outputs": [],
   "source": []
  },
  {
   "cell_type": "code",
   "execution_count": null,
   "metadata": {},
   "outputs": [],
   "source": []
  },
  {
   "cell_type": "code",
   "execution_count": null,
   "metadata": {},
   "outputs": [],
   "source": []
  },
  {
   "cell_type": "code",
   "execution_count": null,
   "metadata": {},
   "outputs": [],
   "source": []
  },
  {
   "cell_type": "code",
   "execution_count": null,
   "metadata": {},
   "outputs": [],
   "source": []
  },
  {
   "cell_type": "code",
   "execution_count": null,
   "metadata": {},
   "outputs": [],
   "source": []
  },
  {
   "cell_type": "code",
   "execution_count": null,
   "metadata": {},
   "outputs": [],
   "source": []
  },
  {
   "cell_type": "code",
   "execution_count": null,
   "metadata": {},
   "outputs": [],
   "source": []
  },
  {
   "cell_type": "code",
   "execution_count": null,
   "metadata": {},
   "outputs": [],
   "source": []
  },
  {
   "cell_type": "code",
   "execution_count": null,
   "metadata": {},
   "outputs": [],
   "source": []
  },
  {
   "cell_type": "code",
   "execution_count": null,
   "metadata": {},
   "outputs": [],
   "source": []
  },
  {
   "cell_type": "code",
   "execution_count": null,
   "metadata": {},
   "outputs": [],
   "source": []
  },
  {
   "cell_type": "code",
   "execution_count": null,
   "metadata": {},
   "outputs": [],
   "source": []
  },
  {
   "cell_type": "code",
   "execution_count": null,
   "metadata": {},
   "outputs": [],
   "source": []
  },
  {
   "cell_type": "code",
   "execution_count": null,
   "metadata": {},
   "outputs": [],
   "source": []
  },
  {
   "cell_type": "code",
   "execution_count": null,
   "metadata": {},
   "outputs": [],
   "source": []
  },
  {
   "cell_type": "code",
   "execution_count": null,
   "metadata": {},
   "outputs": [],
   "source": []
  },
  {
   "cell_type": "code",
   "execution_count": null,
   "metadata": {},
   "outputs": [],
   "source": []
  },
  {
   "cell_type": "code",
   "execution_count": null,
   "metadata": {},
   "outputs": [],
   "source": []
  },
  {
   "cell_type": "code",
   "execution_count": null,
   "metadata": {},
   "outputs": [],
   "source": []
  },
  {
   "cell_type": "code",
   "execution_count": null,
   "metadata": {},
   "outputs": [],
   "source": []
  },
  {
   "cell_type": "code",
   "execution_count": null,
   "metadata": {},
   "outputs": [],
   "source": []
  },
  {
   "cell_type": "code",
   "execution_count": null,
   "metadata": {},
   "outputs": [],
   "source": []
  },
  {
   "cell_type": "code",
   "execution_count": null,
   "metadata": {},
   "outputs": [],
   "source": []
  },
  {
   "cell_type": "code",
   "execution_count": null,
   "metadata": {},
   "outputs": [],
   "source": []
  },
  {
   "cell_type": "code",
   "execution_count": null,
   "metadata": {},
   "outputs": [],
   "source": []
  },
  {
   "cell_type": "code",
   "execution_count": 52,
   "metadata": {},
   "outputs": [],
   "source": [
    "# Adapted from https://scikit-learn.org/stable/auto_examples/model_selection/plot_confusion_matrix.html#sphx-glr-auto-examples-model-selection-plot-confusion-matrix-py: \n",
    "\n",
    "def plot_confusion_matrix(y_true, y_pred,\n",
    "                          normalize=False,\n",
    "                          title=None,\n",
    "                          cmap=plt.cm.Blues):\n",
    "    \"\"\"\n",
    "    This function prints and plots the confusion matrix.\n",
    "    Normalization can be applied by setting `normalize=True`.\n",
    "    \"\"\"\n",
    "    if not title:\n",
    "        if normalize:\n",
    "            title = 'Normalized confusion matrix'\n",
    "        else:\n",
    "            title = 'Confusion matrix, without normalization'\n",
    "\n",
    "    # Compute confusion matrix\n",
    "    cm = confusion_matrix(y_true, y_pred)\n",
    "    # Only use the labels that appear in the data\n",
    "    #classes = classes[unique_labels(y_true, y_pred)]\n",
    "    if normalize:\n",
    "        cm = cm.astype('float') / cm.sum(axis=1)[:, np.newaxis]\n",
    "        print(\"Normalized confusion matrix\")\n",
    "    else:\n",
    "        print('Confusion matrix, without normalization')\n",
    "\n",
    "    print(cm)\n",
    "\n",
    "    fig, ax = plt.subplots()\n",
    "    im = ax.imshow(cm, interpolation='nearest', cmap=cmap)\n",
    "    ax.figure.colorbar(im, ax=ax)\n",
    "    # We want to show all ticks...\n",
    "    ax.set(xticks=np.arange(cm.shape[1]),\n",
    "           yticks=np.arange(cm.shape[0]),\n",
    "           # ... and label them with the respective list entries\n",
    "           #xticklabels=classes, yticklabels=classes,\n",
    "           title=title,\n",
    "           ylabel='True label',\n",
    "           xlabel='Predicted label')\n",
    "\n",
    "    # Rotate the tick labels and set their alignment.\n",
    "    plt.setp(ax.get_xticklabels(), rotation=45, ha=\"right\",\n",
    "             rotation_mode=\"anchor\")\n",
    "\n",
    "    # Loop over data dimensions and create text annotations.\n",
    "    fmt = '.2f' if normalize else 'd'\n",
    "    thresh = cm.max() / 2.\n",
    "    for i in range(cm.shape[0]):\n",
    "        for j in range(cm.shape[1]):\n",
    "            ax.text(j, i, format(cm[i, j], fmt),\n",
    "                    ha=\"center\", va=\"center\",\n",
    "                    color=\"white\" if cm[i, j] > thresh else \"black\")\n",
    "    fig.tight_layout()\n",
    "    return ax\n",
    "\n",
    "\n",
    "np.set_printoptions(precision=5)"
   ]
  },
  {
   "cell_type": "code",
   "execution_count": null,
   "metadata": {},
   "outputs": [],
   "source": []
  }
 ],
 "metadata": {
  "kernelspec": {
   "display_name": "Python 3",
   "language": "python",
   "name": "python3"
  },
  "language_info": {
   "codemirror_mode": {
    "name": "ipython",
    "version": 3
   },
   "file_extension": ".py",
   "mimetype": "text/x-python",
   "name": "python",
   "nbconvert_exporter": "python",
   "pygments_lexer": "ipython3",
   "version": "3.7.4"
  }
 },
 "nbformat": 4,
 "nbformat_minor": 2
}
